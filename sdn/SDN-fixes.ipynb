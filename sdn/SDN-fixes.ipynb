{
 "cells": [
  {
   "cell_type": "markdown",
   "id": "4be9eb10-cc39-4aab-8e3b-12de37132598",
   "metadata": {},
   "source": [
    "# OFAC SDN (US) List Cleanup"
   ]
  },
  {
   "cell_type": "markdown",
   "id": "94298a73-b68e-4a8a-a800-b8140a7f7215",
   "metadata": {},
   "source": [
    "## Import packages"
   ]
  },
  {
   "cell_type": "code",
   "execution_count": 1,
   "id": "d57d9e58-3184-4aa3-bb0e-cc2b5c206964",
   "metadata": {},
   "outputs": [],
   "source": [
    "import pandas as pd\n",
    "import re"
   ]
  },
  {
   "cell_type": "markdown",
   "id": "549fb3cb-2218-4b2b-ba37-20f5b192b976",
   "metadata": {},
   "source": [
    "## SDN Main"
   ]
  },
  {
   "cell_type": "code",
   "execution_count": 21,
   "id": "e1b54562-8098-4c42-b60c-70cb15013bc2",
   "metadata": {},
   "outputs": [],
   "source": [
    "df = pd.read_csv(\"sdn-main-src.csv\",header=None, names=[\"ent_num\", \"SDN_Name\", \"SDN_Type\", \"Program\", \"Title\", \"Call_Sign\", \"Vess_type\", \"Tonnage\", \"GRT\", \"Vess_flag\", \"Vess_owner\", \"Remarks\"])"
   ]
  },
  {
   "cell_type": "code",
   "execution_count": 22,
   "id": "4c90d970-0fc9-4fa1-baa1-defb3599a4af",
   "metadata": {},
   "outputs": [
    {
     "data": {
      "text/plain": [
       "Index(['ent_num', 'SDN_Name', 'SDN_Type', 'Program', 'Title', 'Call_Sign',\n",
       "       'Vess_type', 'Tonnage', 'GRT', 'Vess_flag', 'Vess_owner', 'Remarks'],\n",
       "      dtype='object')"
      ]
     },
     "execution_count": 22,
     "metadata": {},
     "output_type": "execute_result"
    }
   ],
   "source": [
    "df.columns"
   ]
  },
  {
   "cell_type": "code",
   "execution_count": 23,
   "id": "23711c7f-378f-46c1-aae4-a0df82584cca",
   "metadata": {},
   "outputs": [
    {
     "data": {
      "text/html": [
       "<div>\n",
       "<style scoped>\n",
       "    .dataframe tbody tr th:only-of-type {\n",
       "        vertical-align: middle;\n",
       "    }\n",
       "\n",
       "    .dataframe tbody tr th {\n",
       "        vertical-align: top;\n",
       "    }\n",
       "\n",
       "    .dataframe thead th {\n",
       "        text-align: right;\n",
       "    }\n",
       "</style>\n",
       "<table border=\"1\" class=\"dataframe\">\n",
       "  <thead>\n",
       "    <tr style=\"text-align: right;\">\n",
       "      <th></th>\n",
       "      <th>ent_num</th>\n",
       "      <th>SDN_Name</th>\n",
       "      <th>SDN_Type</th>\n",
       "      <th>Program</th>\n",
       "      <th>Title</th>\n",
       "      <th>Call_Sign</th>\n",
       "      <th>Vess_type</th>\n",
       "      <th>Tonnage</th>\n",
       "      <th>GRT</th>\n",
       "      <th>Vess_flag</th>\n",
       "      <th>Vess_owner</th>\n",
       "      <th>Remarks</th>\n",
       "    </tr>\n",
       "  </thead>\n",
       "  <tbody>\n",
       "    <tr>\n",
       "      <th>0</th>\n",
       "      <td>36</td>\n",
       "      <td>AEROCARIBBEAN AIRLINES</td>\n",
       "      <td>-0-</td>\n",
       "      <td>CUBA</td>\n",
       "      <td>-0-</td>\n",
       "      <td>-0-</td>\n",
       "      <td>-0-</td>\n",
       "      <td>-0-</td>\n",
       "      <td>-0-</td>\n",
       "      <td>-0-</td>\n",
       "      <td>-0-</td>\n",
       "      <td>-0-</td>\n",
       "    </tr>\n",
       "    <tr>\n",
       "      <th>1</th>\n",
       "      <td>173</td>\n",
       "      <td>ANGLO-CARIBBEAN CO., LTD.</td>\n",
       "      <td>-0-</td>\n",
       "      <td>CUBA</td>\n",
       "      <td>-0-</td>\n",
       "      <td>-0-</td>\n",
       "      <td>-0-</td>\n",
       "      <td>-0-</td>\n",
       "      <td>-0-</td>\n",
       "      <td>-0-</td>\n",
       "      <td>-0-</td>\n",
       "      <td>-0-</td>\n",
       "    </tr>\n",
       "    <tr>\n",
       "      <th>2</th>\n",
       "      <td>306</td>\n",
       "      <td>BANCO NACIONAL DE CUBA</td>\n",
       "      <td>-0-</td>\n",
       "      <td>CUBA</td>\n",
       "      <td>-0-</td>\n",
       "      <td>-0-</td>\n",
       "      <td>-0-</td>\n",
       "      <td>-0-</td>\n",
       "      <td>-0-</td>\n",
       "      <td>-0-</td>\n",
       "      <td>-0-</td>\n",
       "      <td>a.k.a. 'BNC'.</td>\n",
       "    </tr>\n",
       "    <tr>\n",
       "      <th>3</th>\n",
       "      <td>424</td>\n",
       "      <td>BOUTIQUE LA MAISON</td>\n",
       "      <td>-0-</td>\n",
       "      <td>CUBA</td>\n",
       "      <td>-0-</td>\n",
       "      <td>-0-</td>\n",
       "      <td>-0-</td>\n",
       "      <td>-0-</td>\n",
       "      <td>-0-</td>\n",
       "      <td>-0-</td>\n",
       "      <td>-0-</td>\n",
       "      <td>-0-</td>\n",
       "    </tr>\n",
       "    <tr>\n",
       "      <th>4</th>\n",
       "      <td>475</td>\n",
       "      <td>CASA DE CUBA</td>\n",
       "      <td>-0-</td>\n",
       "      <td>CUBA</td>\n",
       "      <td>-0-</td>\n",
       "      <td>-0-</td>\n",
       "      <td>-0-</td>\n",
       "      <td>-0-</td>\n",
       "      <td>-0-</td>\n",
       "      <td>-0-</td>\n",
       "      <td>-0-</td>\n",
       "      <td>-0-</td>\n",
       "    </tr>\n",
       "  </tbody>\n",
       "</table>\n",
       "</div>"
      ],
      "text/plain": [
       "  ent_num                   SDN_Name SDN_Type Program Title Call_Sign  \\\n",
       "0      36     AEROCARIBBEAN AIRLINES     -0-     CUBA  -0-       -0-    \n",
       "1     173  ANGLO-CARIBBEAN CO., LTD.     -0-     CUBA  -0-       -0-    \n",
       "2     306     BANCO NACIONAL DE CUBA     -0-     CUBA  -0-       -0-    \n",
       "3     424         BOUTIQUE LA MAISON     -0-     CUBA  -0-       -0-    \n",
       "4     475               CASA DE CUBA     -0-     CUBA  -0-       -0-    \n",
       "\n",
       "  Vess_type Tonnage   GRT Vess_flag Vess_owner        Remarks  \n",
       "0      -0-     -0-   -0-       -0-        -0-            -0-   \n",
       "1      -0-     -0-   -0-       -0-        -0-            -0-   \n",
       "2      -0-     -0-   -0-       -0-        -0-   a.k.a. 'BNC'.  \n",
       "3      -0-     -0-   -0-       -0-        -0-            -0-   \n",
       "4      -0-     -0-   -0-       -0-        -0-            -0-   "
      ]
     },
     "execution_count": 23,
     "metadata": {},
     "output_type": "execute_result"
    }
   ],
   "source": [
    "df.head(5)"
   ]
  },
  {
   "cell_type": "markdown",
   "id": "4f9b72ab-d97c-4e93-9689-afc74c8fa6aa",
   "metadata": {},
   "source": [
    "### Remove Unnessary Cols"
   ]
  },
  {
   "cell_type": "code",
   "execution_count": 60,
   "id": "61892960-ab8c-4ece-81f0-f68566535992",
   "metadata": {},
   "outputs": [],
   "source": [
    "df_new = df.drop(['Program', 'Call_Sign', 'Vess_type','Tonnage','GRT','Vess_flag','Vess_owner'], axis=1)"
   ]
  },
  {
   "cell_type": "code",
   "execution_count": 61,
   "id": "044d4bf4-648c-417e-bc85-719fdabeb103",
   "metadata": {
    "collapsed": true,
    "jupyter": {
     "outputs_hidden": true
    }
   },
   "outputs": [
    {
     "data": {
      "text/html": [
       "<div>\n",
       "<style scoped>\n",
       "    .dataframe tbody tr th:only-of-type {\n",
       "        vertical-align: middle;\n",
       "    }\n",
       "\n",
       "    .dataframe tbody tr th {\n",
       "        vertical-align: top;\n",
       "    }\n",
       "\n",
       "    .dataframe thead th {\n",
       "        text-align: right;\n",
       "    }\n",
       "</style>\n",
       "<table border=\"1\" class=\"dataframe\">\n",
       "  <thead>\n",
       "    <tr style=\"text-align: right;\">\n",
       "      <th></th>\n",
       "      <th>ent_num</th>\n",
       "      <th>SDN_Name</th>\n",
       "      <th>SDN_Type</th>\n",
       "      <th>Title</th>\n",
       "      <th>Remarks</th>\n",
       "    </tr>\n",
       "  </thead>\n",
       "  <tbody>\n",
       "    <tr>\n",
       "      <th>0</th>\n",
       "      <td>36</td>\n",
       "      <td>AEROCARIBBEAN AIRLINES</td>\n",
       "      <td>-0-</td>\n",
       "      <td>-0-</td>\n",
       "      <td>-0-</td>\n",
       "    </tr>\n",
       "    <tr>\n",
       "      <th>1</th>\n",
       "      <td>173</td>\n",
       "      <td>ANGLO-CARIBBEAN CO., LTD.</td>\n",
       "      <td>-0-</td>\n",
       "      <td>-0-</td>\n",
       "      <td>-0-</td>\n",
       "    </tr>\n",
       "    <tr>\n",
       "      <th>2</th>\n",
       "      <td>306</td>\n",
       "      <td>BANCO NACIONAL DE CUBA</td>\n",
       "      <td>-0-</td>\n",
       "      <td>-0-</td>\n",
       "      <td>a.k.a. 'BNC'.</td>\n",
       "    </tr>\n",
       "    <tr>\n",
       "      <th>3</th>\n",
       "      <td>424</td>\n",
       "      <td>BOUTIQUE LA MAISON</td>\n",
       "      <td>-0-</td>\n",
       "      <td>-0-</td>\n",
       "      <td>-0-</td>\n",
       "    </tr>\n",
       "    <tr>\n",
       "      <th>4</th>\n",
       "      <td>475</td>\n",
       "      <td>CASA DE CUBA</td>\n",
       "      <td>-0-</td>\n",
       "      <td>-0-</td>\n",
       "      <td>-0-</td>\n",
       "    </tr>\n",
       "    <tr>\n",
       "      <th>5</th>\n",
       "      <td>480</td>\n",
       "      <td>CECOEX, S.A.</td>\n",
       "      <td>-0-</td>\n",
       "      <td>-0-</td>\n",
       "      <td>-0-</td>\n",
       "    </tr>\n",
       "    <tr>\n",
       "      <th>6</th>\n",
       "      <td>535</td>\n",
       "      <td>CIMEX</td>\n",
       "      <td>-0-</td>\n",
       "      <td>-0-</td>\n",
       "      <td>-0-</td>\n",
       "    </tr>\n",
       "    <tr>\n",
       "      <th>7</th>\n",
       "      <td>536</td>\n",
       "      <td>CIMEX IBERICA</td>\n",
       "      <td>-0-</td>\n",
       "      <td>-0-</td>\n",
       "      <td>-0-</td>\n",
       "    </tr>\n",
       "    <tr>\n",
       "      <th>8</th>\n",
       "      <td>537</td>\n",
       "      <td>CIMEX, S.A.</td>\n",
       "      <td>-0-</td>\n",
       "      <td>-0-</td>\n",
       "      <td>-0-</td>\n",
       "    </tr>\n",
       "    <tr>\n",
       "      <th>9</th>\n",
       "      <td>540</td>\n",
       "      <td>COMERCIAL IBEROAMERICANA, S.A.</td>\n",
       "      <td>-0-</td>\n",
       "      <td>-0-</td>\n",
       "      <td>-0-</td>\n",
       "    </tr>\n",
       "  </tbody>\n",
       "</table>\n",
       "</div>"
      ],
      "text/plain": [
       "  ent_num                        SDN_Name SDN_Type Title        Remarks\n",
       "0      36          AEROCARIBBEAN AIRLINES     -0-   -0-            -0- \n",
       "1     173       ANGLO-CARIBBEAN CO., LTD.     -0-   -0-            -0- \n",
       "2     306          BANCO NACIONAL DE CUBA     -0-   -0-   a.k.a. 'BNC'.\n",
       "3     424              BOUTIQUE LA MAISON     -0-   -0-            -0- \n",
       "4     475                    CASA DE CUBA     -0-   -0-            -0- \n",
       "5     480                    CECOEX, S.A.     -0-   -0-            -0- \n",
       "6     535                           CIMEX     -0-   -0-            -0- \n",
       "7     536                   CIMEX IBERICA     -0-   -0-            -0- \n",
       "8     537                     CIMEX, S.A.     -0-   -0-            -0- \n",
       "9     540  COMERCIAL IBEROAMERICANA, S.A.     -0-   -0-            -0- "
      ]
     },
     "execution_count": 61,
     "metadata": {},
     "output_type": "execute_result"
    }
   ],
   "source": [
    "df_new.head(10)"
   ]
  },
  {
   "cell_type": "code",
   "execution_count": 62,
   "id": "3e330745-1ee2-4a2d-8ae2-6fdd9b3f2697",
   "metadata": {},
   "outputs": [
    {
     "name": "stdout",
     "output_type": "stream",
     "text": [
      "['-0- ' 'individual' 'vessel' 'aircraft' nan]\n"
     ]
    }
   ],
   "source": [
    "print(df_new[\"SDN_Type\"].unique())"
   ]
  },
  {
   "cell_type": "code",
   "execution_count": 63,
   "id": "8f54d7be-87b3-4d46-bc27-d69651700017",
   "metadata": {},
   "outputs": [],
   "source": [
    "df_new = df_new[df_new[\"SDN_Type\"].isin(['-0- ', \"individual\"])]"
   ]
  },
  {
   "cell_type": "code",
   "execution_count": 64,
   "id": "d6941502-af4c-437d-bd19-67c281df7f76",
   "metadata": {},
   "outputs": [],
   "source": [
    "df_new.loc[df[\"SDN_Type\"] == '-0- ', \"SDN_Type\"] = \"enterprise\""
   ]
  },
  {
   "cell_type": "code",
   "execution_count": 65,
   "id": "ec31c764-110f-477b-bb09-56f78471a63a",
   "metadata": {
    "collapsed": true,
    "jupyter": {
     "outputs_hidden": true
    }
   },
   "outputs": [
    {
     "data": {
      "text/html": [
       "<div>\n",
       "<style scoped>\n",
       "    .dataframe tbody tr th:only-of-type {\n",
       "        vertical-align: middle;\n",
       "    }\n",
       "\n",
       "    .dataframe tbody tr th {\n",
       "        vertical-align: top;\n",
       "    }\n",
       "\n",
       "    .dataframe thead th {\n",
       "        text-align: right;\n",
       "    }\n",
       "</style>\n",
       "<table border=\"1\" class=\"dataframe\">\n",
       "  <thead>\n",
       "    <tr style=\"text-align: right;\">\n",
       "      <th></th>\n",
       "      <th>ent_num</th>\n",
       "      <th>SDN_Name</th>\n",
       "      <th>SDN_Type</th>\n",
       "      <th>Title</th>\n",
       "      <th>Remarks</th>\n",
       "    </tr>\n",
       "  </thead>\n",
       "  <tbody>\n",
       "    <tr>\n",
       "      <th>0</th>\n",
       "      <td>36</td>\n",
       "      <td>AEROCARIBBEAN AIRLINES</td>\n",
       "      <td>enterprise</td>\n",
       "      <td>-0-</td>\n",
       "      <td>-0-</td>\n",
       "    </tr>\n",
       "    <tr>\n",
       "      <th>1</th>\n",
       "      <td>173</td>\n",
       "      <td>ANGLO-CARIBBEAN CO., LTD.</td>\n",
       "      <td>enterprise</td>\n",
       "      <td>-0-</td>\n",
       "      <td>-0-</td>\n",
       "    </tr>\n",
       "    <tr>\n",
       "      <th>2</th>\n",
       "      <td>306</td>\n",
       "      <td>BANCO NACIONAL DE CUBA</td>\n",
       "      <td>enterprise</td>\n",
       "      <td>-0-</td>\n",
       "      <td>a.k.a. 'BNC'.</td>\n",
       "    </tr>\n",
       "    <tr>\n",
       "      <th>3</th>\n",
       "      <td>424</td>\n",
       "      <td>BOUTIQUE LA MAISON</td>\n",
       "      <td>enterprise</td>\n",
       "      <td>-0-</td>\n",
       "      <td>-0-</td>\n",
       "    </tr>\n",
       "    <tr>\n",
       "      <th>4</th>\n",
       "      <td>475</td>\n",
       "      <td>CASA DE CUBA</td>\n",
       "      <td>enterprise</td>\n",
       "      <td>-0-</td>\n",
       "      <td>-0-</td>\n",
       "    </tr>\n",
       "    <tr>\n",
       "      <th>5</th>\n",
       "      <td>480</td>\n",
       "      <td>CECOEX, S.A.</td>\n",
       "      <td>enterprise</td>\n",
       "      <td>-0-</td>\n",
       "      <td>-0-</td>\n",
       "    </tr>\n",
       "    <tr>\n",
       "      <th>6</th>\n",
       "      <td>535</td>\n",
       "      <td>CIMEX</td>\n",
       "      <td>enterprise</td>\n",
       "      <td>-0-</td>\n",
       "      <td>-0-</td>\n",
       "    </tr>\n",
       "    <tr>\n",
       "      <th>7</th>\n",
       "      <td>536</td>\n",
       "      <td>CIMEX IBERICA</td>\n",
       "      <td>enterprise</td>\n",
       "      <td>-0-</td>\n",
       "      <td>-0-</td>\n",
       "    </tr>\n",
       "    <tr>\n",
       "      <th>8</th>\n",
       "      <td>537</td>\n",
       "      <td>CIMEX, S.A.</td>\n",
       "      <td>enterprise</td>\n",
       "      <td>-0-</td>\n",
       "      <td>-0-</td>\n",
       "    </tr>\n",
       "    <tr>\n",
       "      <th>9</th>\n",
       "      <td>540</td>\n",
       "      <td>COMERCIAL IBEROAMERICANA, S.A.</td>\n",
       "      <td>enterprise</td>\n",
       "      <td>-0-</td>\n",
       "      <td>-0-</td>\n",
       "    </tr>\n",
       "  </tbody>\n",
       "</table>\n",
       "</div>"
      ],
      "text/plain": [
       "  ent_num                        SDN_Name    SDN_Type Title        Remarks\n",
       "0      36          AEROCARIBBEAN AIRLINES  enterprise  -0-            -0- \n",
       "1     173       ANGLO-CARIBBEAN CO., LTD.  enterprise  -0-            -0- \n",
       "2     306          BANCO NACIONAL DE CUBA  enterprise  -0-   a.k.a. 'BNC'.\n",
       "3     424              BOUTIQUE LA MAISON  enterprise  -0-            -0- \n",
       "4     475                    CASA DE CUBA  enterprise  -0-            -0- \n",
       "5     480                    CECOEX, S.A.  enterprise  -0-            -0- \n",
       "6     535                           CIMEX  enterprise  -0-            -0- \n",
       "7     536                   CIMEX IBERICA  enterprise  -0-            -0- \n",
       "8     537                     CIMEX, S.A.  enterprise  -0-            -0- \n",
       "9     540  COMERCIAL IBEROAMERICANA, S.A.  enterprise  -0-            -0- "
      ]
     },
     "execution_count": 65,
     "metadata": {},
     "output_type": "execute_result"
    }
   ],
   "source": [
    "df_new.head(10)"
   ]
  },
  {
   "cell_type": "code",
   "execution_count": 66,
   "id": "eed6ac49-65f7-4818-9908-e7ee652b0b74",
   "metadata": {},
   "outputs": [],
   "source": [
    "df_new.to_csv(\"output_SDN_Main_english.csv\", index=False)"
   ]
  },
  {
   "cell_type": "code",
   "execution_count": null,
   "id": "77202dac-5d95-47b9-bcd1-3a9bf1ac7617",
   "metadata": {},
   "outputs": [],
   "source": []
  },
  {
   "cell_type": "code",
   "execution_count": null,
   "id": "80f8bcdc-7ef3-4ecc-aded-96f31b499c9b",
   "metadata": {},
   "outputs": [],
   "source": []
  },
  {
   "cell_type": "code",
   "execution_count": 21,
   "id": "61a50225-c46a-4a6a-9e91-96c3d72e0acc",
   "metadata": {
    "jupyter": {
     "source_hidden": true
    }
   },
   "outputs": [],
   "source": [
    "df = pd.read_csv(\"sdn-main-src.csv\",header=None, names=[\"ent_num\", \"SDN_Name\", \"SDN_Type\", \"Program\", \"Title\", \"Call_Sign\", \"Vess_type\", \"Tonnage\", \"GRT\", \"Vess_flag\", \"Vess_owner\", \"Remarks\"])"
   ]
  },
  {
   "cell_type": "code",
   "execution_count": 22,
   "id": "b4b4e99e-bd39-40c0-9b25-56de4ebb6852",
   "metadata": {
    "collapsed": true,
    "jupyter": {
     "outputs_hidden": true
    },
    "scrolled": true
   },
   "outputs": [
    {
     "data": {
      "text/plain": [
       "Index(['ent_num', 'SDN_Name', 'SDN_Type', 'Program', 'Title', 'Call_Sign',\n",
       "       'Vess_type', 'Tonnage', 'GRT', 'Vess_flag', 'Vess_owner', 'Remarks'],\n",
       "      dtype='object')"
      ]
     },
     "execution_count": 22,
     "metadata": {},
     "output_type": "execute_result"
    }
   ],
   "source": [
    "df.columns"
   ]
  },
  {
   "cell_type": "code",
   "execution_count": 23,
   "id": "1afc8e74-66e0-4c56-9a8f-ec6ad653ed6c",
   "metadata": {
    "collapsed": true,
    "jupyter": {
     "outputs_hidden": true
    }
   },
   "outputs": [
    {
     "data": {
      "text/html": [
       "<div>\n",
       "<style scoped>\n",
       "    .dataframe tbody tr th:only-of-type {\n",
       "        vertical-align: middle;\n",
       "    }\n",
       "\n",
       "    .dataframe tbody tr th {\n",
       "        vertical-align: top;\n",
       "    }\n",
       "\n",
       "    .dataframe thead th {\n",
       "        text-align: right;\n",
       "    }\n",
       "</style>\n",
       "<table border=\"1\" class=\"dataframe\">\n",
       "  <thead>\n",
       "    <tr style=\"text-align: right;\">\n",
       "      <th></th>\n",
       "      <th>ent_num</th>\n",
       "      <th>SDN_Name</th>\n",
       "      <th>SDN_Type</th>\n",
       "      <th>Program</th>\n",
       "      <th>Title</th>\n",
       "      <th>Call_Sign</th>\n",
       "      <th>Vess_type</th>\n",
       "      <th>Tonnage</th>\n",
       "      <th>GRT</th>\n",
       "      <th>Vess_flag</th>\n",
       "      <th>Vess_owner</th>\n",
       "      <th>Remarks</th>\n",
       "    </tr>\n",
       "  </thead>\n",
       "  <tbody>\n",
       "    <tr>\n",
       "      <th>0</th>\n",
       "      <td>36</td>\n",
       "      <td>AEROCARIBBEAN AIRLINES</td>\n",
       "      <td>-0-</td>\n",
       "      <td>CUBA</td>\n",
       "      <td>-0-</td>\n",
       "      <td>-0-</td>\n",
       "      <td>-0-</td>\n",
       "      <td>-0-</td>\n",
       "      <td>-0-</td>\n",
       "      <td>-0-</td>\n",
       "      <td>-0-</td>\n",
       "      <td>-0-</td>\n",
       "    </tr>\n",
       "    <tr>\n",
       "      <th>1</th>\n",
       "      <td>173</td>\n",
       "      <td>ANGLO-CARIBBEAN CO., LTD.</td>\n",
       "      <td>-0-</td>\n",
       "      <td>CUBA</td>\n",
       "      <td>-0-</td>\n",
       "      <td>-0-</td>\n",
       "      <td>-0-</td>\n",
       "      <td>-0-</td>\n",
       "      <td>-0-</td>\n",
       "      <td>-0-</td>\n",
       "      <td>-0-</td>\n",
       "      <td>-0-</td>\n",
       "    </tr>\n",
       "    <tr>\n",
       "      <th>2</th>\n",
       "      <td>306</td>\n",
       "      <td>BANCO NACIONAL DE CUBA</td>\n",
       "      <td>-0-</td>\n",
       "      <td>CUBA</td>\n",
       "      <td>-0-</td>\n",
       "      <td>-0-</td>\n",
       "      <td>-0-</td>\n",
       "      <td>-0-</td>\n",
       "      <td>-0-</td>\n",
       "      <td>-0-</td>\n",
       "      <td>-0-</td>\n",
       "      <td>a.k.a. 'BNC'.</td>\n",
       "    </tr>\n",
       "    <tr>\n",
       "      <th>3</th>\n",
       "      <td>424</td>\n",
       "      <td>BOUTIQUE LA MAISON</td>\n",
       "      <td>-0-</td>\n",
       "      <td>CUBA</td>\n",
       "      <td>-0-</td>\n",
       "      <td>-0-</td>\n",
       "      <td>-0-</td>\n",
       "      <td>-0-</td>\n",
       "      <td>-0-</td>\n",
       "      <td>-0-</td>\n",
       "      <td>-0-</td>\n",
       "      <td>-0-</td>\n",
       "    </tr>\n",
       "    <tr>\n",
       "      <th>4</th>\n",
       "      <td>475</td>\n",
       "      <td>CASA DE CUBA</td>\n",
       "      <td>-0-</td>\n",
       "      <td>CUBA</td>\n",
       "      <td>-0-</td>\n",
       "      <td>-0-</td>\n",
       "      <td>-0-</td>\n",
       "      <td>-0-</td>\n",
       "      <td>-0-</td>\n",
       "      <td>-0-</td>\n",
       "      <td>-0-</td>\n",
       "      <td>-0-</td>\n",
       "    </tr>\n",
       "  </tbody>\n",
       "</table>\n",
       "</div>"
      ],
      "text/plain": [
       "  ent_num                   SDN_Name SDN_Type Program Title Call_Sign  \\\n",
       "0      36     AEROCARIBBEAN AIRLINES     -0-     CUBA  -0-       -0-    \n",
       "1     173  ANGLO-CARIBBEAN CO., LTD.     -0-     CUBA  -0-       -0-    \n",
       "2     306     BANCO NACIONAL DE CUBA     -0-     CUBA  -0-       -0-    \n",
       "3     424         BOUTIQUE LA MAISON     -0-     CUBA  -0-       -0-    \n",
       "4     475               CASA DE CUBA     -0-     CUBA  -0-       -0-    \n",
       "\n",
       "  Vess_type Tonnage   GRT Vess_flag Vess_owner        Remarks  \n",
       "0      -0-     -0-   -0-       -0-        -0-            -0-   \n",
       "1      -0-     -0-   -0-       -0-        -0-            -0-   \n",
       "2      -0-     -0-   -0-       -0-        -0-   a.k.a. 'BNC'.  \n",
       "3      -0-     -0-   -0-       -0-        -0-            -0-   \n",
       "4      -0-     -0-   -0-       -0-        -0-            -0-   "
      ]
     },
     "execution_count": 23,
     "metadata": {},
     "output_type": "execute_result"
    }
   ],
   "source": [
    "df.head(5)"
   ]
  },
  {
   "cell_type": "markdown",
   "id": "b63af57f-4efb-471a-886a-b3ccc45efc00",
   "metadata": {},
   "source": [
    "## SDN ALT"
   ]
  },
  {
   "cell_type": "code",
   "execution_count": null,
   "id": "76876fc8-5312-472f-acc6-7e1c04ab91f4",
   "metadata": {},
   "outputs": [],
   "source": []
  },
  {
   "cell_type": "code",
   "execution_count": 89,
   "id": "b5b0531b-6566-4a36-aa72-4446b0c3f031",
   "metadata": {},
   "outputs": [],
   "source": [
    "df = pd.read_csv(\"sdn-alt-src.csv\",header=None, names=[\"ent_num\", \"alt_num\", \"alt_type\", \"alt_name\", \"alt_remarks\"])"
   ]
  },
  {
   "cell_type": "code",
   "execution_count": 90,
   "id": "04ff33f1-9efb-40b6-9f65-c737364148f3",
   "metadata": {},
   "outputs": [
    {
     "data": {
      "text/plain": [
       "Index(['ent_num', 'alt_num', 'alt_type', 'alt_name', 'alt_remarks'], dtype='object')"
      ]
     },
     "execution_count": 90,
     "metadata": {},
     "output_type": "execute_result"
    }
   ],
   "source": [
    "df.columns"
   ]
  },
  {
   "cell_type": "code",
   "execution_count": 91,
   "id": "8030cd61-5606-4de2-baca-bdc285eb5a9f",
   "metadata": {},
   "outputs": [
    {
     "data": {
      "text/html": [
       "<div>\n",
       "<style scoped>\n",
       "    .dataframe tbody tr th:only-of-type {\n",
       "        vertical-align: middle;\n",
       "    }\n",
       "\n",
       "    .dataframe tbody tr th {\n",
       "        vertical-align: top;\n",
       "    }\n",
       "\n",
       "    .dataframe thead th {\n",
       "        text-align: right;\n",
       "    }\n",
       "</style>\n",
       "<table border=\"1\" class=\"dataframe\">\n",
       "  <thead>\n",
       "    <tr style=\"text-align: right;\">\n",
       "      <th></th>\n",
       "      <th>ent_num</th>\n",
       "      <th>alt_num</th>\n",
       "      <th>alt_type</th>\n",
       "      <th>alt_name</th>\n",
       "      <th>alt_remarks</th>\n",
       "    </tr>\n",
       "  </thead>\n",
       "  <tbody>\n",
       "    <tr>\n",
       "      <th>0</th>\n",
       "      <td>36</td>\n",
       "      <td>12.0</td>\n",
       "      <td>aka</td>\n",
       "      <td>AERO-CARIBBEAN</td>\n",
       "      <td>-0-</td>\n",
       "    </tr>\n",
       "    <tr>\n",
       "      <th>1</th>\n",
       "      <td>173</td>\n",
       "      <td>57.0</td>\n",
       "      <td>aka</td>\n",
       "      <td>AVIA IMPORT</td>\n",
       "      <td>-0-</td>\n",
       "    </tr>\n",
       "    <tr>\n",
       "      <th>2</th>\n",
       "      <td>306</td>\n",
       "      <td>220.0</td>\n",
       "      <td>aka</td>\n",
       "      <td>NATIONAL BANK OF CUBA</td>\n",
       "      <td>-0-</td>\n",
       "    </tr>\n",
       "    <tr>\n",
       "      <th>3</th>\n",
       "      <td>540</td>\n",
       "      <td>471.0</td>\n",
       "      <td>aka</td>\n",
       "      <td>COIBA</td>\n",
       "      <td>-0-</td>\n",
       "    </tr>\n",
       "    <tr>\n",
       "      <th>4</th>\n",
       "      <td>552</td>\n",
       "      <td>475.0</td>\n",
       "      <td>aka</td>\n",
       "      <td>CRYMSA</td>\n",
       "      <td>-0-</td>\n",
       "    </tr>\n",
       "  </tbody>\n",
       "</table>\n",
       "</div>"
      ],
      "text/plain": [
       "  ent_num  alt_num alt_type               alt_name alt_remarks\n",
       "0      36     12.0      aka         AERO-CARIBBEAN        -0- \n",
       "1     173     57.0      aka            AVIA IMPORT        -0- \n",
       "2     306    220.0      aka  NATIONAL BANK OF CUBA        -0- \n",
       "3     540    471.0      aka                  COIBA        -0- \n",
       "4     552    475.0      aka                 CRYMSA        -0- "
      ]
     },
     "execution_count": 91,
     "metadata": {},
     "output_type": "execute_result"
    }
   ],
   "source": [
    "df.head(5)"
   ]
  },
  {
   "cell_type": "markdown",
   "id": "9abcd008-cb72-4969-be44-588a9373aaf4",
   "metadata": {},
   "source": [
    "### Remove Unnessary Cols"
   ]
  },
  {
   "cell_type": "code",
   "execution_count": 92,
   "id": "9ff80629-d1c6-49dc-a69d-b357dbf100c2",
   "metadata": {},
   "outputs": [],
   "source": [
    "df_new = df.drop(['alt_type','alt_remarks'], axis=1)"
   ]
  },
  {
   "cell_type": "code",
   "execution_count": 93,
   "id": "f6144a44-3fab-4528-a347-a97e4b18e7b9",
   "metadata": {},
   "outputs": [
    {
     "data": {
      "text/html": [
       "<div>\n",
       "<style scoped>\n",
       "    .dataframe tbody tr th:only-of-type {\n",
       "        vertical-align: middle;\n",
       "    }\n",
       "\n",
       "    .dataframe tbody tr th {\n",
       "        vertical-align: top;\n",
       "    }\n",
       "\n",
       "    .dataframe thead th {\n",
       "        text-align: right;\n",
       "    }\n",
       "</style>\n",
       "<table border=\"1\" class=\"dataframe\">\n",
       "  <thead>\n",
       "    <tr style=\"text-align: right;\">\n",
       "      <th></th>\n",
       "      <th>ent_num</th>\n",
       "      <th>alt_num</th>\n",
       "      <th>alt_name</th>\n",
       "    </tr>\n",
       "  </thead>\n",
       "  <tbody>\n",
       "    <tr>\n",
       "      <th>0</th>\n",
       "      <td>36</td>\n",
       "      <td>12.0</td>\n",
       "      <td>AERO-CARIBBEAN</td>\n",
       "    </tr>\n",
       "    <tr>\n",
       "      <th>1</th>\n",
       "      <td>173</td>\n",
       "      <td>57.0</td>\n",
       "      <td>AVIA IMPORT</td>\n",
       "    </tr>\n",
       "    <tr>\n",
       "      <th>2</th>\n",
       "      <td>306</td>\n",
       "      <td>220.0</td>\n",
       "      <td>NATIONAL BANK OF CUBA</td>\n",
       "    </tr>\n",
       "    <tr>\n",
       "      <th>3</th>\n",
       "      <td>540</td>\n",
       "      <td>471.0</td>\n",
       "      <td>COIBA</td>\n",
       "    </tr>\n",
       "    <tr>\n",
       "      <th>4</th>\n",
       "      <td>552</td>\n",
       "      <td>475.0</td>\n",
       "      <td>CRYMSA</td>\n",
       "    </tr>\n",
       "    <tr>\n",
       "      <th>5</th>\n",
       "      <td>555</td>\n",
       "      <td>477.0</td>\n",
       "      <td>COPROVA</td>\n",
       "    </tr>\n",
       "    <tr>\n",
       "      <th>6</th>\n",
       "      <td>555</td>\n",
       "      <td>478.0</td>\n",
       "      <td>COPROVA SARL</td>\n",
       "    </tr>\n",
       "    <tr>\n",
       "      <th>7</th>\n",
       "      <td>559</td>\n",
       "      <td>481.0</td>\n",
       "      <td>CIMEX</td>\n",
       "    </tr>\n",
       "    <tr>\n",
       "      <th>8</th>\n",
       "      <td>651</td>\n",
       "      <td>556.0</td>\n",
       "      <td>DELVEST HOLDING COMPANY</td>\n",
       "    </tr>\n",
       "    <tr>\n",
       "      <th>9</th>\n",
       "      <td>735</td>\n",
       "      <td>583.0</td>\n",
       "      <td>CUBANA AIRLINES</td>\n",
       "    </tr>\n",
       "  </tbody>\n",
       "</table>\n",
       "</div>"
      ],
      "text/plain": [
       "  ent_num  alt_num                 alt_name\n",
       "0      36     12.0           AERO-CARIBBEAN\n",
       "1     173     57.0              AVIA IMPORT\n",
       "2     306    220.0    NATIONAL BANK OF CUBA\n",
       "3     540    471.0                    COIBA\n",
       "4     552    475.0                   CRYMSA\n",
       "5     555    477.0                  COPROVA\n",
       "6     555    478.0             COPROVA SARL\n",
       "7     559    481.0                    CIMEX\n",
       "8     651    556.0  DELVEST HOLDING COMPANY\n",
       "9     735    583.0          CUBANA AIRLINES"
      ]
     },
     "execution_count": 93,
     "metadata": {},
     "output_type": "execute_result"
    }
   ],
   "source": [
    "df_new.head(10)"
   ]
  },
  {
   "cell_type": "code",
   "execution_count": 94,
   "id": "c077c357-7b53-4c9e-b2d4-0774b83a1439",
   "metadata": {
    "scrolled": true
   },
   "outputs": [
    {
     "name": "stdout",
     "output_type": "stream",
     "text": [
      "['AERO-CARIBBEAN' 'AVIA IMPORT' 'NATIONAL BANK OF CUBA' ...\n",
      " 'YANGSHAN SHENGANG INTERNATIONAL PETROLEUM LOGISTICS CO., LTD.'\n",
      " 'YANGSHAN SHENGANG INTERNATIONAL OIL STORAGE CO. LTD.' nan]\n"
     ]
    }
   ],
   "source": [
    "print(df_new[\"alt_name\"].unique())"
   ]
  },
  {
   "cell_type": "code",
   "execution_count": 95,
   "id": "8de56178-1948-4ff7-9be0-1ac4456eb00c",
   "metadata": {},
   "outputs": [],
   "source": [
    "df_new.to_csv(\"output_SDN_ALT_english.csv\", index=False)"
   ]
  },
  {
   "cell_type": "markdown",
   "id": "f51d8d8e-ee97-4c14-8f73-147b06977d4b",
   "metadata": {},
   "source": [
    "## SDN Add"
   ]
  },
  {
   "cell_type": "code",
   "execution_count": 104,
   "id": "6d2b28e3-466c-4e1c-a679-f9329d2dcdeb",
   "metadata": {},
   "outputs": [],
   "source": [
    "df = pd.read_csv(\"sdn-add-src.csv\",)"
   ]
  },
  {
   "cell_type": "code",
   "execution_count": 105,
   "id": "e0528d74-f724-44b2-938c-1c1571a14bd5",
   "metadata": {},
   "outputs": [
    {
     "data": {
      "text/plain": [
       "Index(['Ent_num', 'Add_num', 'Address', 'Province', 'Country', 'Add_remarks'], dtype='object')"
      ]
     },
     "execution_count": 105,
     "metadata": {},
     "output_type": "execute_result"
    }
   ],
   "source": [
    "df.columns"
   ]
  },
  {
   "cell_type": "code",
   "execution_count": 106,
   "id": "fba86002-fe18-41bf-8988-3637fbb2106d",
   "metadata": {},
   "outputs": [
    {
     "data": {
      "text/html": [
       "<div>\n",
       "<style scoped>\n",
       "    .dataframe tbody tr th:only-of-type {\n",
       "        vertical-align: middle;\n",
       "    }\n",
       "\n",
       "    .dataframe tbody tr th {\n",
       "        vertical-align: top;\n",
       "    }\n",
       "\n",
       "    .dataframe thead th {\n",
       "        text-align: right;\n",
       "    }\n",
       "</style>\n",
       "<table border=\"1\" class=\"dataframe\">\n",
       "  <thead>\n",
       "    <tr style=\"text-align: right;\">\n",
       "      <th></th>\n",
       "      <th>Ent_num</th>\n",
       "      <th>Add_num</th>\n",
       "      <th>Address</th>\n",
       "      <th>Province</th>\n",
       "      <th>Country</th>\n",
       "      <th>Add_remarks</th>\n",
       "    </tr>\n",
       "  </thead>\n",
       "  <tbody>\n",
       "    <tr>\n",
       "      <th>0</th>\n",
       "      <td>36</td>\n",
       "      <td>25.0</td>\n",
       "      <td>-0-</td>\n",
       "      <td>Havana</td>\n",
       "      <td>Cuba</td>\n",
       "      <td>-0-</td>\n",
       "    </tr>\n",
       "    <tr>\n",
       "      <th>1</th>\n",
       "      <td>173</td>\n",
       "      <td>129.0</td>\n",
       "      <td>Ibex House, The Minories</td>\n",
       "      <td>London EC3N 1DY</td>\n",
       "      <td>United Kingdom</td>\n",
       "      <td>-0-</td>\n",
       "    </tr>\n",
       "    <tr>\n",
       "      <th>2</th>\n",
       "      <td>306</td>\n",
       "      <td>199.0</td>\n",
       "      <td>Zweierstrasse 35</td>\n",
       "      <td>Zurich CH-8022</td>\n",
       "      <td>Switzerland</td>\n",
       "      <td>-0-</td>\n",
       "    </tr>\n",
       "    <tr>\n",
       "      <th>3</th>\n",
       "      <td>306</td>\n",
       "      <td>200.0</td>\n",
       "      <td>Avenida de Concha Espina 8</td>\n",
       "      <td>Madrid E-28036</td>\n",
       "      <td>Spain</td>\n",
       "      <td>-0-</td>\n",
       "    </tr>\n",
       "    <tr>\n",
       "      <th>4</th>\n",
       "      <td>306</td>\n",
       "      <td>201.0</td>\n",
       "      <td>Dai-Ichi Bldg. 6th Floor, 10-2 Nihombashi, 2-c...</td>\n",
       "      <td>Tokyo 103</td>\n",
       "      <td>Japan</td>\n",
       "      <td>-0-</td>\n",
       "    </tr>\n",
       "  </tbody>\n",
       "</table>\n",
       "</div>"
      ],
      "text/plain": [
       "  Ent_num  Add_num                                            Address  \\\n",
       "0      36     25.0                                               -0-    \n",
       "1     173    129.0                           Ibex House, The Minories   \n",
       "2     306    199.0                                   Zweierstrasse 35   \n",
       "3     306    200.0                         Avenida de Concha Espina 8   \n",
       "4     306    201.0  Dai-Ichi Bldg. 6th Floor, 10-2 Nihombashi, 2-c...   \n",
       "\n",
       "          Province         Country Add_remarks  \n",
       "0           Havana            Cuba        -0-   \n",
       "1  London EC3N 1DY  United Kingdom        -0-   \n",
       "2   Zurich CH-8022     Switzerland        -0-   \n",
       "3   Madrid E-28036           Spain        -0-   \n",
       "4        Tokyo 103           Japan        -0-   "
      ]
     },
     "execution_count": 106,
     "metadata": {},
     "output_type": "execute_result"
    }
   ],
   "source": [
    "df.head(5)"
   ]
  },
  {
   "cell_type": "markdown",
   "id": "95b2cd2f-20d8-4f03-9bab-a51947b89ed6",
   "metadata": {},
   "source": [
    "### Remove Unnessary Cols"
   ]
  },
  {
   "cell_type": "code",
   "execution_count": 107,
   "id": "d99b8b55-1c96-4c8d-86f5-e45a8a2b018d",
   "metadata": {},
   "outputs": [
    {
     "name": "stdout",
     "output_type": "stream",
     "text": [
      "['-0- ' nan]\n"
     ]
    }
   ],
   "source": [
    "print(df[\"Add_remarks\"].unique())"
   ]
  },
  {
   "cell_type": "code",
   "execution_count": 108,
   "id": "83dcb096-d3c3-4ba8-ac5c-596ff7fc3d56",
   "metadata": {},
   "outputs": [],
   "source": [
    "df_new = df.drop(['Add_remarks'], axis=1)"
   ]
  },
  {
   "cell_type": "code",
   "execution_count": 109,
   "id": "2d89ba9d-67d2-43da-94c4-d5997f8b474a",
   "metadata": {},
   "outputs": [],
   "source": [
    "df_new.to_csv(\"output_SDN_ADD_english.csv\", index=False)"
   ]
  },
  {
   "cell_type": "code",
   "execution_count": null,
   "id": "0eabf426-c841-4e44-b9db-1ed288fbc8bb",
   "metadata": {},
   "outputs": [],
   "source": []
  }
 ],
 "metadata": {
  "kernelspec": {
   "display_name": "Python 3 (ipykernel)",
   "language": "python",
   "name": "python3"
  },
  "language_info": {
   "codemirror_mode": {
    "name": "ipython",
    "version": 3
   },
   "file_extension": ".py",
   "mimetype": "text/x-python",
   "name": "python",
   "nbconvert_exporter": "python",
   "pygments_lexer": "ipython3",
   "version": "3.13.1"
  }
 },
 "nbformat": 4,
 "nbformat_minor": 5
}
