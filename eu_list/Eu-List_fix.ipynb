{
 "cells": [
  {
   "cell_type": "markdown",
   "id": "3ac0baeb-f010-47b6-8ef9-9dc317fa9a1d",
   "metadata": {},
   "source": [
    "## EU DATA cleaning"
   ]
  },
  {
   "cell_type": "markdown",
   "id": "f4f4defe-1c4f-4971-9568-f9384401707b",
   "metadata": {},
   "source": [
    "## Remove blank Names"
   ]
  },
  {
   "cell_type": "code",
   "execution_count": 1,
   "id": "b5bd73f1-94df-480b-a2aa-5f62f264f380",
   "metadata": {},
   "outputs": [],
   "source": [
    "import pandas as pd\n",
    "import re"
   ]
  },
  {
   "cell_type": "markdown",
   "id": "a9ece247-75b0-46df-9f5c-1ba623a86673",
   "metadata": {},
   "source": [
    "### Load Data"
   ]
  },
  {
   "cell_type": "code",
   "execution_count": 44,
   "id": "0d023704-8a76-497c-9100-2130eeef4266",
   "metadata": {},
   "outputs": [],
   "source": [
    "df = pd.read_csv(\"name-fix-eu-list.csv\")"
   ]
  },
  {
   "cell_type": "code",
   "execution_count": 45,
   "id": "b81191d4-9ab3-4c29-b155-d9454f71b5ac",
   "metadata": {},
   "outputs": [
    {
     "data": {
      "text/plain": [
       "Index(['Entity_LogicalId', 'Entity_EU_ReferenceNumber', 'Entity_Remark',\n",
       "       'Entity_SubjectType', 'Entity_SubjectType_ClassificationCode',\n",
       "       'NameAlias_LastName', 'NameAlias_FirstName', 'NameAlias_MiddleName',\n",
       "       'NameAlias_WholeName', 'NameAlias_Title', 'NameAlias_Function',\n",
       "       'NameAlias_LogicalId', 'NameAlias_Remark', 'Address_City',\n",
       "       'Address_Street', 'Address_PoBox', 'Address_ZipCode', 'Address_Region',\n",
       "       'Address_Place', 'Address_ContactInfo', 'Address_Remark',\n",
       "       'BirthDate_BirthDate', 'BirthDate_Day', 'BirthDate_Month',\n",
       "       'BirthDate_Year', 'BirthDate_Place', 'BirthDate_City',\n",
       "       'BirthDate_Remark', 'Identification_Number', 'Identification_Remark',\n",
       "       'Citizenship_Remark'],\n",
       "      dtype='object')"
      ]
     },
     "execution_count": 45,
     "metadata": {},
     "output_type": "execute_result"
    }
   ],
   "source": [
    "df.columns"
   ]
  },
  {
   "cell_type": "code",
   "execution_count": 46,
   "id": "8d1587e0-6d57-42db-b6b3-b00174e40857",
   "metadata": {},
   "outputs": [],
   "source": [
    "alias_cols = [\n",
    "    \"NameAlias_LastName\",\n",
    "    \"NameAlias_FirstName\",\n",
    "    \"NameAlias_MiddleName\",\n",
    "    \"NameAlias_WholeName\",\n",
    "    \"NameAlias_Title\",\n",
    "    \"NameAlias_Function\",\n",
    "    \"NameAlias_LogicalId\",\n",
    "    \"NameAlias_Remark\"\n",
    "]\n"
   ]
  },
  {
   "cell_type": "code",
   "execution_count": 47,
   "id": "a2e1df2b-6756-47b5-9a5d-6d33eada31eb",
   "metadata": {},
   "outputs": [],
   "source": [
    "# Keep only rows where at least one alias column has English text\n",
    "df = df[df[alias_cols].apply(lambda row: any(has_english(val) for val in row), axis=1)]"
   ]
  },
  {
   "cell_type": "code",
   "execution_count": 48,
   "id": "2157cfc0-9b73-4fc5-9dc8-2e00a198a54f",
   "metadata": {},
   "outputs": [],
   "source": [
    "# Drop columns that are completely empty or contain only NaN/empty/whitespace\n",
    "df = df.dropna(axis=1, how=\"all\")  # Drop fully empty columns\n",
    "df = df[[col for col in df.columns if df[col].apply(lambda x: str(x).strip() if pd.notna(x) else \"\").any()]]  # Remove whitespace-only columns"
   ]
  },
  {
   "cell_type": "code",
   "execution_count": 49,
   "id": "a2758248-2341-4542-9154-37fbacb8c33e",
   "metadata": {},
   "outputs": [],
   "source": [
    "df.to_csv(\"output_namealias_english_2.csv\", index=False)"
   ]
  },
  {
   "cell_type": "markdown",
   "id": "dddbfc1d-77e5-4a46-8481-5eff5f181e94",
   "metadata": {},
   "source": [
    "### Load Data"
   ]
  },
  {
   "cell_type": "markdown",
   "id": "fbe525a0-4252-43ac-a750-6e7d0637465e",
   "metadata": {},
   "source": [
    "## Remove blank Address"
   ]
  },
  {
   "cell_type": "code",
   "execution_count": 58,
   "id": "3aff7e70-ee10-427c-aacc-42a1eac54e3e",
   "metadata": {},
   "outputs": [],
   "source": [
    "df = pd.read_csv(\"eu-list-IDN-src.csv\")"
   ]
  },
  {
   "cell_type": "code",
   "execution_count": 59,
   "id": "2e5e9b47-1fff-40a3-b299-56aa7e75e831",
   "metadata": {},
   "outputs": [
    {
     "data": {
      "text/plain": [
       "Index(['Entity_LogicalId', 'Entity_EU_ReferenceNumber', 'Entity_SubjectType',\n",
       "       'Entity_SubjectType_ClassificationCode', 'Identification_Number',\n",
       "       'Identification_TypeCode', 'Identification_TypeDescription',\n",
       "       'Identification_Region', 'Identification_CountryIso2Code',\n",
       "       'Identification_CountryDescription', 'Identification_Remark'],\n",
       "      dtype='object')"
      ]
     },
     "execution_count": 59,
     "metadata": {},
     "output_type": "execute_result"
    }
   ],
   "source": [
    "df.columns"
   ]
  },
  {
   "cell_type": "code",
   "execution_count": 60,
   "id": "3b1a031e-d445-400f-84c2-cdaaa8f254fe",
   "metadata": {},
   "outputs": [],
   "source": [
    "# Alias-related columns\n",
    "alias_cols = [\n",
    "'Identification_Number',\n",
    "       'Identification_TypeCode', 'Identification_TypeDescription',\n",
    "       'Identification_Region', 'Identification_CountryIso2Code',\n",
    "       'Identification_CountryDescription', 'Identification_Remark'\n",
    "]"
   ]
  },
  {
   "cell_type": "code",
   "execution_count": 61,
   "id": "22fb4b80-f594-4344-b713-40e6a2a6da0a",
   "metadata": {},
   "outputs": [],
   "source": [
    "# Function to check if a value has English letters\n",
    "def has_english(text):\n",
    "    if pd.isna(text):\n",
    "        return False\n",
    "    return bool(re.search(r\"[A-Za-z]\", str(text)))"
   ]
  },
  {
   "cell_type": "code",
   "execution_count": 62,
   "id": "134121dd-c2a5-4c6d-a817-7ea3cfe79ae4",
   "metadata": {},
   "outputs": [],
   "source": [
    "# Keep only rows where at least one alias column has English text\n",
    "df = df[df[alias_cols].apply(lambda row: any(has_english(val) for val in row), axis=1)]"
   ]
  },
  {
   "cell_type": "code",
   "execution_count": 63,
   "id": "4ef03516-4f72-4689-8af4-68b0098b2b82",
   "metadata": {},
   "outputs": [],
   "source": [
    "# Drop columns that are completely empty or contain only NaN/empty/whitespace\n",
    "df = df.dropna(axis=1, how=\"all\")  # Drop fully empty columns\n",
    "df = df[[col for col in df.columns if df[col].apply(lambda x: str(x).strip() if pd.notna(x) else \"\").any()]]  # Remove whitespace-only columns"
   ]
  },
  {
   "cell_type": "code",
   "execution_count": 64,
   "id": "fe8e5eba-6565-4c1e-a51d-6fcc44a26cd7",
   "metadata": {},
   "outputs": [],
   "source": [
    "df.to_csv(\"output_IDN_english.csv\", index=False)"
   ]
  },
  {
   "cell_type": "markdown",
   "id": "e2b54475-a731-40c9-98af-17762e585222",
   "metadata": {},
   "source": [
    "### Remove Blank BirthDate"
   ]
  },
  {
   "cell_type": "code",
   "execution_count": 70,
   "id": "5dae76da-d249-466b-a1db-242ff7e511ce",
   "metadata": {},
   "outputs": [],
   "source": [
    "df = pd.read_csv(\"eu-list-BirthDate-src.csv\")"
   ]
  },
  {
   "cell_type": "code",
   "execution_count": 71,
   "id": "e1792770-e61c-41a3-a6ef-ddc63e9f08bd",
   "metadata": {},
   "outputs": [
    {
     "data": {
      "text/plain": [
       "Index(['Entity_LogicalId', 'Entity_EU_ReferenceNumber', 'BirthDate_BirthDate',\n",
       "       'BirthDate_Day', 'BirthDate_Month', 'BirthDate_Year',\n",
       "       'BirthDate_Region', 'BirthDate_Place', 'BirthDate_City',\n",
       "       'BirthDate_CountryIso2Code', 'BirthDate_CountryDescription',\n",
       "       'BirthDate_Remark'],\n",
       "      dtype='object')"
      ]
     },
     "execution_count": 71,
     "metadata": {},
     "output_type": "execute_result"
    }
   ],
   "source": [
    "df.columns"
   ]
  },
  {
   "cell_type": "code",
   "execution_count": 72,
   "id": "20ef8c72-cb67-4482-96fd-e31ffbb52d5e",
   "metadata": {},
   "outputs": [],
   "source": [
    "# Alias-related columns\n",
    "alias_cols = [\n",
    "'BirthDate_BirthDate',\n",
    "       'BirthDate_Day', 'BirthDate_Month', 'BirthDate_Year',\n",
    "       'BirthDate_Region', 'BirthDate_Place', 'BirthDate_City',\n",
    "       'BirthDate_CountryIso2Code', 'BirthDate_CountryDescription',\n",
    "       'BirthDate_Remark'\n",
    "]"
   ]
  },
  {
   "cell_type": "code",
   "execution_count": 73,
   "id": "45981b79-3055-461e-8097-2fca9303abd2",
   "metadata": {},
   "outputs": [],
   "source": [
    "# Function to check if a value has English letters\n",
    "def has_english(text):\n",
    "    if pd.isna(text):\n",
    "        return False\n",
    "    return bool(re.search(r\"[A-Za-z]\", str(text)))"
   ]
  },
  {
   "cell_type": "code",
   "execution_count": 74,
   "id": "5fbb10c5-ef34-466f-9448-c1af913b79fe",
   "metadata": {},
   "outputs": [],
   "source": [
    "# Keep only rows where at least one alias column has English text\n",
    "df = df[df[alias_cols].apply(lambda row: any(has_english(val) for val in row), axis=1)]"
   ]
  },
  {
   "cell_type": "code",
   "execution_count": 75,
   "id": "b8f7077f-cde1-4d3e-b255-ba69ba6ad733",
   "metadata": {},
   "outputs": [],
   "source": [
    "# Drop columns that are completely empty or contain only NaN/empty/whitespace\n",
    "df = df.dropna(axis=1, how=\"all\")  # Drop fully empty columns\n",
    "df = df[[col for col in df.columns if df[col].apply(lambda x: str(x).strip() if pd.notna(x) else \"\").any()]]  # Remove whitespace-only columns"
   ]
  },
  {
   "cell_type": "code",
   "execution_count": 76,
   "id": "725285ba-5b08-4eba-82f3-9452e0deded3",
   "metadata": {},
   "outputs": [],
   "source": [
    "df.to_csv(\"output_BirthDt_english.csv\", index=False)"
   ]
  },
  {
   "cell_type": "code",
   "execution_count": null,
   "id": "1bf2e5fc-06fd-4e44-83f3-265b131ca03a",
   "metadata": {
    "editable": true,
    "slideshow": {
     "slide_type": ""
    },
    "tags": []
   },
   "outputs": [],
   "source": []
  },
  {
   "cell_type": "markdown",
   "id": "d4054f3f-c005-4ed3-9d5e-b266acadad9e",
   "metadata": {},
   "source": [
    "### Remove Blank Citizen"
   ]
  },
  {
   "cell_type": "code",
   "execution_count": 77,
   "id": "351d0a2d-0713-44a5-ac2f-eb23a50fc920",
   "metadata": {},
   "outputs": [],
   "source": [
    "df = pd.read_csv(\"eu-list-Citizen-src.csv\")"
   ]
  },
  {
   "cell_type": "code",
   "execution_count": 78,
   "id": "1fde7141-b491-4042-b060-1649d4ba90d8",
   "metadata": {},
   "outputs": [
    {
     "data": {
      "text/plain": [
       "Index(['Entity_LogicalId', 'Entity_EU_ReferenceNumber', 'Entity_SubjectType',\n",
       "       'Entity_SubjectType_ClassificationCode', 'Citizenship_CountryIso2Code',\n",
       "       'Citizenship_Remark'],\n",
       "      dtype='object')"
      ]
     },
     "execution_count": 78,
     "metadata": {},
     "output_type": "execute_result"
    }
   ],
   "source": [
    "df.columns"
   ]
  },
  {
   "cell_type": "code",
   "execution_count": 79,
   "id": "fee36133-a1ef-441f-a59e-80f07e06dae4",
   "metadata": {},
   "outputs": [],
   "source": [
    "# Alias-related columns\n",
    "alias_cols = [\n",
    "'Citizenship_CountryIso2Code',\n",
    "       'Citizenship_Remark'\n",
    "]"
   ]
  },
  {
   "cell_type": "code",
   "execution_count": 80,
   "id": "be92d0af-694f-4cd9-a65e-622747d2f39d",
   "metadata": {},
   "outputs": [],
   "source": [
    "# Function to check if a value has English letters\n",
    "def has_english(text):\n",
    "    if pd.isna(text):\n",
    "        return False\n",
    "    return bool(re.search(r\"[A-Za-z]\", str(text)))"
   ]
  },
  {
   "cell_type": "code",
   "execution_count": 81,
   "id": "5c09b8f7-6e04-4936-b3fb-a67ba94e2330",
   "metadata": {},
   "outputs": [],
   "source": [
    "# Keep only rows where at least one alias column has English text\n",
    "df = df[df[alias_cols].apply(lambda row: any(has_english(val) for val in row), axis=1)]"
   ]
  },
  {
   "cell_type": "code",
   "execution_count": 82,
   "id": "009370dc-d4a0-42e1-ae95-44e9f3d2e4d8",
   "metadata": {},
   "outputs": [],
   "source": [
    "# Drop columns that are completely empty or contain only NaN/empty/whitespace\n",
    "df = df.dropna(axis=1, how=\"all\")  # Drop fully empty columns\n",
    "df = df[[col for col in df.columns if df[col].apply(lambda x: str(x).strip() if pd.notna(x) else \"\").any()]]  # Remove whitespace-only columns"
   ]
  },
  {
   "cell_type": "code",
   "execution_count": 83,
   "id": "95d7d3e0-c7cc-4273-9c13-ee0134843c3b",
   "metadata": {},
   "outputs": [],
   "source": [
    "df.to_csv(\"output_Citizen_english.csv\", index=False)"
   ]
  },
  {
   "cell_type": "code",
   "execution_count": null,
   "id": "dffa731a-1edc-4653-9a69-0d1dc7acaecd",
   "metadata": {
    "editable": true,
    "slideshow": {
     "slide_type": ""
    },
    "tags": []
   },
   "outputs": [],
   "source": []
  }
 ],
 "metadata": {
  "kernelspec": {
   "display_name": "Python 3 (ipykernel)",
   "language": "python",
   "name": "python3"
  },
  "language_info": {
   "codemirror_mode": {
    "name": "ipython",
    "version": 3
   },
   "file_extension": ".py",
   "mimetype": "text/x-python",
   "name": "python",
   "nbconvert_exporter": "python",
   "pygments_lexer": "ipython3",
   "version": "3.13.1"
  }
 },
 "nbformat": 4,
 "nbformat_minor": 5
}
