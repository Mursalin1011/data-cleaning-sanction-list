{
 "cells": [
  {
   "cell_type": "markdown",
   "id": "3d2b45cf",
   "metadata": {},
   "source": []
  }
 ],
 "metadata": {
  "language_info": {
   "name": "python"
  }
 },
 "nbformat": 4,
 "nbformat_minor": 5
}
